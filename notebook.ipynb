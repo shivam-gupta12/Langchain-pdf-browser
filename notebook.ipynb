{
 "cells": [
  {
   "cell_type": "code",
   "execution_count": 1,
   "metadata": {},
   "outputs": [
    {
     "name": "stdout",
     "output_type": "stream",
     "text": [
      "Requirement already satisfied: langchain in /Users/damodargupta/anaconda3/lib/python3.10/site-packages (0.0.137)\n",
      "Requirement already satisfied: PyYAML>=5.4.1 in /Users/damodargupta/anaconda3/lib/python3.10/site-packages (from langchain) (6.0)\n",
      "Requirement already satisfied: SQLAlchemy<2,>=1 in /Users/damodargupta/anaconda3/lib/python3.10/site-packages (from langchain) (1.4.39)\n",
      "Requirement already satisfied: aiohttp<4.0.0,>=3.8.3 in /Users/damodargupta/anaconda3/lib/python3.10/site-packages (from langchain) (3.8.4)\n",
      "Requirement already satisfied: async-timeout<5.0.0,>=4.0.0 in /Users/damodargupta/anaconda3/lib/python3.10/site-packages (from langchain) (4.0.2)\n",
      "Requirement already satisfied: dataclasses-json<0.6.0,>=0.5.7 in /Users/damodargupta/anaconda3/lib/python3.10/site-packages (from langchain) (0.5.14)\n",
      "Requirement already satisfied: numpy<2,>=1 in /Users/damodargupta/anaconda3/lib/python3.10/site-packages (from langchain) (1.22.3)\n",
      "Requirement already satisfied: openapi-schema-pydantic<2.0,>=1.2 in /Users/damodargupta/anaconda3/lib/python3.10/site-packages (from langchain) (1.2.4)\n",
      "Requirement already satisfied: pydantic<2,>=1 in /Users/damodargupta/anaconda3/lib/python3.10/site-packages (from langchain) (1.10.13)\n",
      "Requirement already satisfied: requests<3,>=2 in /Users/damodargupta/anaconda3/lib/python3.10/site-packages (from langchain) (2.28.1)\n",
      "Requirement already satisfied: tenacity<9.0.0,>=8.1.0 in /Users/damodargupta/anaconda3/lib/python3.10/site-packages (from langchain) (8.2.3)\n",
      "Requirement already satisfied: attrs>=17.3.0 in /Users/damodargupta/anaconda3/lib/python3.10/site-packages (from aiohttp<4.0.0,>=3.8.3->langchain) (22.1.0)\n",
      "Requirement already satisfied: charset-normalizer<4.0,>=2.0 in /Users/damodargupta/anaconda3/lib/python3.10/site-packages (from aiohttp<4.0.0,>=3.8.3->langchain) (2.0.4)\n",
      "Requirement already satisfied: multidict<7.0,>=4.5 in /Users/damodargupta/anaconda3/lib/python3.10/site-packages (from aiohttp<4.0.0,>=3.8.3->langchain) (6.0.4)\n",
      "Requirement already satisfied: yarl<2.0,>=1.0 in /Users/damodargupta/anaconda3/lib/python3.10/site-packages (from aiohttp<4.0.0,>=3.8.3->langchain) (1.9.2)\n",
      "Requirement already satisfied: frozenlist>=1.1.1 in /Users/damodargupta/anaconda3/lib/python3.10/site-packages (from aiohttp<4.0.0,>=3.8.3->langchain) (1.3.3)\n",
      "Requirement already satisfied: aiosignal>=1.1.2 in /Users/damodargupta/anaconda3/lib/python3.10/site-packages (from aiohttp<4.0.0,>=3.8.3->langchain) (1.3.1)\n",
      "Requirement already satisfied: marshmallow<4.0.0,>=3.18.0 in /Users/damodargupta/anaconda3/lib/python3.10/site-packages (from dataclasses-json<0.6.0,>=0.5.7->langchain) (3.20.1)\n",
      "Requirement already satisfied: typing-inspect<1,>=0.4.0 in /Users/damodargupta/anaconda3/lib/python3.10/site-packages (from dataclasses-json<0.6.0,>=0.5.7->langchain) (0.9.0)\n",
      "Requirement already satisfied: typing-extensions>=4.2.0 in /Users/damodargupta/anaconda3/lib/python3.10/site-packages (from pydantic<2,>=1->langchain) (4.8.0)\n",
      "Requirement already satisfied: idna<4,>=2.5 in /Users/damodargupta/anaconda3/lib/python3.10/site-packages (from requests<3,>=2->langchain) (2.10)\n",
      "Requirement already satisfied: urllib3<1.27,>=1.21.1 in /Users/damodargupta/anaconda3/lib/python3.10/site-packages (from requests<3,>=2->langchain) (1.26.14)\n",
      "Requirement already satisfied: certifi>=2017.4.17 in /Users/damodargupta/anaconda3/lib/python3.10/site-packages (from requests<3,>=2->langchain) (2022.12.7)\n",
      "Requirement already satisfied: packaging>=17.0 in /Users/damodargupta/anaconda3/lib/python3.10/site-packages (from marshmallow<4.0.0,>=3.18.0->dataclasses-json<0.6.0,>=0.5.7->langchain) (22.0)\n",
      "Requirement already satisfied: mypy-extensions>=0.3.0 in /Users/damodargupta/anaconda3/lib/python3.10/site-packages (from typing-inspect<1,>=0.4.0->dataclasses-json<0.6.0,>=0.5.7->langchain) (0.4.3)\n",
      "\n",
      "\u001b[1m[\u001b[0m\u001b[34;49mnotice\u001b[0m\u001b[1;39;49m]\u001b[0m\u001b[39;49m A new release of pip is available: \u001b[0m\u001b[31;49m23.2\u001b[0m\u001b[39;49m -> \u001b[0m\u001b[32;49m23.3\u001b[0m\n",
      "\u001b[1m[\u001b[0m\u001b[34;49mnotice\u001b[0m\u001b[1;39;49m]\u001b[0m\u001b[39;49m To update, run: \u001b[0m\u001b[32;49mpip install --upgrade pip\u001b[0m\n",
      "Requirement already satisfied: openai in /Users/damodargupta/anaconda3/lib/python3.10/site-packages (0.27.8)\n",
      "Requirement already satisfied: requests>=2.20 in /Users/damodargupta/anaconda3/lib/python3.10/site-packages (from openai) (2.28.1)\n",
      "Requirement already satisfied: tqdm in /Users/damodargupta/anaconda3/lib/python3.10/site-packages (from openai) (4.64.1)\n",
      "Requirement already satisfied: aiohttp in /Users/damodargupta/anaconda3/lib/python3.10/site-packages (from openai) (3.8.4)\n",
      "Requirement already satisfied: charset-normalizer<3,>=2 in /Users/damodargupta/anaconda3/lib/python3.10/site-packages (from requests>=2.20->openai) (2.0.4)\n",
      "Requirement already satisfied: idna<4,>=2.5 in /Users/damodargupta/anaconda3/lib/python3.10/site-packages (from requests>=2.20->openai) (2.10)\n",
      "Requirement already satisfied: urllib3<1.27,>=1.21.1 in /Users/damodargupta/anaconda3/lib/python3.10/site-packages (from requests>=2.20->openai) (1.26.14)\n",
      "Requirement already satisfied: certifi>=2017.4.17 in /Users/damodargupta/anaconda3/lib/python3.10/site-packages (from requests>=2.20->openai) (2022.12.7)\n",
      "Requirement already satisfied: attrs>=17.3.0 in /Users/damodargupta/anaconda3/lib/python3.10/site-packages (from aiohttp->openai) (22.1.0)\n",
      "Requirement already satisfied: multidict<7.0,>=4.5 in /Users/damodargupta/anaconda3/lib/python3.10/site-packages (from aiohttp->openai) (6.0.4)\n",
      "Requirement already satisfied: async-timeout<5.0,>=4.0.0a3 in /Users/damodargupta/anaconda3/lib/python3.10/site-packages (from aiohttp->openai) (4.0.2)\n",
      "Requirement already satisfied: yarl<2.0,>=1.0 in /Users/damodargupta/anaconda3/lib/python3.10/site-packages (from aiohttp->openai) (1.9.2)\n",
      "Requirement already satisfied: frozenlist>=1.1.1 in /Users/damodargupta/anaconda3/lib/python3.10/site-packages (from aiohttp->openai) (1.3.3)\n",
      "Requirement already satisfied: aiosignal>=1.1.2 in /Users/damodargupta/anaconda3/lib/python3.10/site-packages (from aiohttp->openai) (1.3.1)\n",
      "\n",
      "\u001b[1m[\u001b[0m\u001b[34;49mnotice\u001b[0m\u001b[1;39;49m]\u001b[0m\u001b[39;49m A new release of pip is available: \u001b[0m\u001b[31;49m23.2\u001b[0m\u001b[39;49m -> \u001b[0m\u001b[32;49m23.3\u001b[0m\n",
      "\u001b[1m[\u001b[0m\u001b[34;49mnotice\u001b[0m\u001b[1;39;49m]\u001b[0m\u001b[39;49m To update, run: \u001b[0m\u001b[32;49mpip install --upgrade pip\u001b[0m\n",
      "Requirement already satisfied: PyPDF2 in /Users/damodargupta/anaconda3/lib/python3.10/site-packages (3.0.1)\n",
      "\n",
      "\u001b[1m[\u001b[0m\u001b[34;49mnotice\u001b[0m\u001b[1;39;49m]\u001b[0m\u001b[39;49m A new release of pip is available: \u001b[0m\u001b[31;49m23.2\u001b[0m\u001b[39;49m -> \u001b[0m\u001b[32;49m23.3\u001b[0m\n",
      "\u001b[1m[\u001b[0m\u001b[34;49mnotice\u001b[0m\u001b[1;39;49m]\u001b[0m\u001b[39;49m To update, run: \u001b[0m\u001b[32;49mpip install --upgrade pip\u001b[0m\n",
      "Requirement already satisfied: faiss-cpu in /Users/damodargupta/anaconda3/lib/python3.10/site-packages (1.7.4)\n",
      "\n",
      "\u001b[1m[\u001b[0m\u001b[34;49mnotice\u001b[0m\u001b[1;39;49m]\u001b[0m\u001b[39;49m A new release of pip is available: \u001b[0m\u001b[31;49m23.2\u001b[0m\u001b[39;49m -> \u001b[0m\u001b[32;49m23.3\u001b[0m\n",
      "\u001b[1m[\u001b[0m\u001b[34;49mnotice\u001b[0m\u001b[1;39;49m]\u001b[0m\u001b[39;49m To update, run: \u001b[0m\u001b[32;49mpip install --upgrade pip\u001b[0m\n",
      "Requirement already satisfied: tiktoken in /Users/damodargupta/anaconda3/lib/python3.10/site-packages (0.5.1)\n",
      "Requirement already satisfied: regex>=2022.1.18 in /Users/damodargupta/anaconda3/lib/python3.10/site-packages (from tiktoken) (2022.7.9)\n",
      "Requirement already satisfied: requests>=2.26.0 in /Users/damodargupta/anaconda3/lib/python3.10/site-packages (from tiktoken) (2.28.1)\n",
      "Requirement already satisfied: charset-normalizer<3,>=2 in /Users/damodargupta/anaconda3/lib/python3.10/site-packages (from requests>=2.26.0->tiktoken) (2.0.4)\n",
      "Requirement already satisfied: idna<4,>=2.5 in /Users/damodargupta/anaconda3/lib/python3.10/site-packages (from requests>=2.26.0->tiktoken) (2.10)\n",
      "Requirement already satisfied: urllib3<1.27,>=1.21.1 in /Users/damodargupta/anaconda3/lib/python3.10/site-packages (from requests>=2.26.0->tiktoken) (1.26.14)\n",
      "Requirement already satisfied: certifi>=2017.4.17 in /Users/damodargupta/anaconda3/lib/python3.10/site-packages (from requests>=2.26.0->tiktoken) (2022.12.7)\n",
      "\n",
      "\u001b[1m[\u001b[0m\u001b[34;49mnotice\u001b[0m\u001b[1;39;49m]\u001b[0m\u001b[39;49m A new release of pip is available: \u001b[0m\u001b[31;49m23.2\u001b[0m\u001b[39;49m -> \u001b[0m\u001b[32;49m23.3\u001b[0m\n",
      "\u001b[1m[\u001b[0m\u001b[34;49mnotice\u001b[0m\u001b[1;39;49m]\u001b[0m\u001b[39;49m To update, run: \u001b[0m\u001b[32;49mpip install --upgrade pip\u001b[0m\n",
      "Requirement already satisfied: pydantic in /Users/damodargupta/anaconda3/lib/python3.10/site-packages (1.10.13)\n",
      "Requirement already satisfied: typing-extensions>=4.2.0 in /Users/damodargupta/anaconda3/lib/python3.10/site-packages (from pydantic) (4.8.0)\n",
      "\n",
      "\u001b[1m[\u001b[0m\u001b[34;49mnotice\u001b[0m\u001b[1;39;49m]\u001b[0m\u001b[39;49m A new release of pip is available: \u001b[0m\u001b[31;49m23.2\u001b[0m\u001b[39;49m -> \u001b[0m\u001b[32;49m23.3\u001b[0m\n",
      "\u001b[1m[\u001b[0m\u001b[34;49mnotice\u001b[0m\u001b[1;39;49m]\u001b[0m\u001b[39;49m To update, run: \u001b[0m\u001b[32;49mpip install --upgrade pip\u001b[0m\n"
     ]
    }
   ],
   "source": [
    "!pip install langchain\n",
    "!pip install openai\n",
    "!pip install PyPDF2\n",
    "!pip install faiss-cpu\n",
    "!pip install tiktoken\n",
    "!pip install pydantic"
   ]
  },
  {
   "cell_type": "code",
   "execution_count": 2,
   "metadata": {},
   "outputs": [],
   "source": [
    "import PyPDF2 \n",
    "from langchain.text_splitter import CharacterTextSplitter\n",
    "import warnings\n",
    "warnings.filterwarnings('ignore')\n",
    "import langchain\n",
    "\n",
    "from langchain.chat_models import ChatOpenAI\n",
    "from langchain.memory import ConversationBufferMemory\n",
    "from langchain.chains import ConversationalRetrievalChain, RetrievalQA\n",
    "from langchain.llms import HuggingFaceHub\n",
    "from langchain.embeddings.huggingface import HuggingFaceInstructEmbeddings\n",
    "from langchain.vectorstores import FAISS\n"
   ]
  },
  {
   "attachments": {},
   "cell_type": "markdown",
   "metadata": {},
   "source": [
    "# reading text from pdf and converting it into chunks"
   ]
  },
  {
   "cell_type": "code",
   "execution_count": 3,
   "metadata": {},
   "outputs": [],
   "source": [
    "pdf_path = \"/Users/damodargupta/Desktop/Intellify-project/docs/Big_Mac_Index.pdf\"\n",
    "\n",
    "def extract_text_from_pdf(pdf_path):\n",
    "    text = \"\"\n",
    "    pdf_file = open(pdf_path, 'rb')\n",
    "    pdf_reader = PyPDF2.PdfReader(pdf_file)\n",
    "\n",
    "    for page in range(len(pdf_reader.pages)):\n",
    "        text += pdf_reader.pages[page].extract_text()\n",
    "\n",
    "    pdf_file.close()\n",
    "    return text\n",
    "\n",
    "text = extract_text_from_pdf(pdf_path)"
   ]
  },
  {
   "cell_type": "code",
   "execution_count": 4,
   "metadata": {},
   "outputs": [],
   "source": [
    "def get_text_chunks(text):\n",
    "    text_splitter = CharacterTextSplitter(\n",
    "        separator=\"\\n\",\n",
    "        chunk_size=1000,\n",
    "        chunk_overlap=200,\n",
    "        length_function=len\n",
    "    )\n",
    "    chunks = text_splitter.split_text(text)\n",
    "    return chunks"
   ]
  },
  {
   "attachments": {},
   "cell_type": "markdown",
   "metadata": {},
   "source": [
    "# getting vectorstore by using FAISS as a database"
   ]
  },
  {
   "cell_type": "code",
   "execution_count": 5,
   "metadata": {},
   "outputs": [],
   "source": [
    "def get_vectorstore(text_chunks):\n",
    "    embeddings = HuggingFaceInstructEmbeddings(model_name=\"hkunlp/instructor-large\")\n",
    "    vectorstore = FAISS.from_texts(texts=text_chunks, embedding=embeddings)\n",
    "    return vectorstore"
   ]
  },
  {
   "cell_type": "code",
   "execution_count": 6,
   "metadata": {},
   "outputs": [
    {
     "data": {
      "text/plain": [
       "'Big\\nMac\\nIndex\\nThe\\nBig\\nMac\\nIndex\\nis\\na\\nprice\\nindex\\npublished\\nsince\\n1986\\nby\\nThe\\nEconomist\\nas\\nan\\ninformal\\nway\\nof\\nmeasuring\\nthe\\npurchasing\\npower\\nparity\\n(PPP)\\nbetween\\ntwo\\ncurrencies\\nand\\nproviding\\na\\ntest\\nof\\nthe\\nextent\\nto\\nwhich\\nmarket\\nexchange\\nrates\\nresult\\nin\\ngoods\\ncosting\\nthe\\nsame\\nin\\ndifferent\\ncountries.\\nIt\\n\"seeks\\nto\\nmake\\nexchange-rate\\ntheory\\na\\nbit\\nmore\\ndigestible.\"\\nThe\\nindex\\ncompares\\nthe\\nrelative\\nprice\\nworldwide\\nto\\npurchase\\nthe\\nBig\\nMac,\\na\\nhamburger\\nsold\\nat\\nMcDonald\\'s\\nrestaurants.\\nOverview\\nThe\\nBig\\nMac\\nindex\\nwas\\nintroduced\\nin\\nThe\\nEconomist\\nin\\nSeptember\\n1986\\nby\\nPam\\nWoodall\\nas\\na\\nsemi-humorous\\nillustration\\nof\\nPPP\\nand\\nhas\\nbeen\\npublished\\nby\\nthat\\npaper\\nannually\\nsince\\nthen.\\nAlthough\\nthe\\nBig\\nMac\\nIndex\\nwas\\nnot\\nintended\\nto\\nbe\\na\\nlegitimate\\ntool\\nfor\\nexchange\\nrate\\nevaluation,\\nit\\nis\\nnow\\nglobally\\nrecognised\\nand\\nfeatured\\nin\\nmany\\nacademic\\ntextbooks\\nand\\nreports.\\nThe\\nindex\\nalso\\ngave\\nrise\\nto\\nthe\\nword\\nburgernomics.\\nThe\\ntheory\\nunderpinning\\nthe\\nBig\\nMac\\nindex\\nstems\\nfrom\\nthe\\nconcept\\nof\\nPPP,\\nwhich\\nstates\\nthat\\nthe\\nexchange\\nrate\\nbetween\\ntwo\\ncurrencies\\nshould\\nequalize\\nthe\\nprices\\ncharged\\nfor\\nan\\nidentical\\nbasket\\nof\\ngoods.\\nHowever,\\nin\\nreality,\\nsourcing\\nan\\nidentical\\nbasket\\nof\\ngoods\\nin\\nevery\\ncountry\\nprovides\\na\\ncomplex\\nchallenge.\\nAccording\\nto\\nthe\\nOrganisation\\nfor\\nEconomic\\nCo-operation\\nand\\nDevelopment\\n(OECD),\\nover\\n\"3,000\\nconsumer\\ngoods\\nand\\nservices,\\n30\\noccupations\\nin\\ngovernment,\\n200\\ntypes\\nof\\nequipment\\ngoods\\nand\\nabout\\n15\\nconstruction\\nprojects\"\\nare\\nincluded\\nin\\nthe\\ncurrent\\nPPP\\ncalculations.\\nIn\\nan\\neffort\\nto\\nsimplify\\nthis\\nimportant\\neconomic\\nconcept,\\nThe\\nEconomist\\nproposed\\nthat\\na\\nsingle\\nMcDonald’s\\nBig\\nMac\\ncould\\nbe\\nused\\ninstead\\nof\\na\\nbasket\\nof\\ngoods.\\nA\\nMcDonald’s\\nBig\\nMac\\nwas\\nchosen\\nbecause\\nof\\nthe\\nprevalence\\nof\\nthe\\nfast\\nfood\\nchain\\nworldwide,\\nand\\nbecause\\nthe\\nsandwich\\nremains\\nlargely\\nthe\\nsame\\nacross\\nall\\ncountries.Although\\na\\nsingle\\nsandwich\\nmay\\nseem\\noverly\\nsimplistic\\nfor\\nPPP\\ntheory,\\nthe\\nprice\\nof\\na\\nBig\\nMac\\nis\\nderived\\nfrom\\nthe\\nculmination\\nof\\n\"many\\nlocal\\neconomic\\nfactors,\\nsuch\\nas\\nthe\\nprice\\nof\\nthe\\ningredients,\\nlocal\\nwages,\\nor\\nhow\\nmuch\\nit\\ncosts\\nto\\nput\\nup\\nbillboards\\nand\\nbuy\\nTV\\nads\".\\nAs\\na\\nresult,\\nthe\\nBig\\nMac\\nindex\\nprovides\\na\\n\"reasonable\\nmeasure\\nof\\nreal-world\\npurchasing\\npower\".\\nThe\\npurpose\\nof\\nthe\\nBig\\nMac\\nindex\\nis\\nto\\ncalculate\\nan\\nimplied\\nexchange\\nrate\\nbetween\\ntwo\\ncurrencies.\\nIn\\norder\\nto\\ncalculate\\nthe\\nBig\\nMac\\nindex,\\nthe\\nprice\\nof\\na\\nBig\\nMac\\nin\\na\\nforeign\\ncountry\\n(in\\nthe\\nforeign\\ncountry’s\\ncurrency)\\nis\\ndivided\\nby\\nthe\\nprice\\nof\\na\\nBig\\nMac\\nin\\na\\nbase\\ncountry\\n(in\\nthe\\nbase\\ncountry’s\\ncurrency).\\nTypically,\\nthe\\nbase\\ncountry\\nused\\nis\\nthe\\nUnited\\nStates.\\nFor\\nexample,\\nusing\\nfigures\\nfrom\\nJuly\\n2023\\nIn\\nSwitzerland,\\na\\nBig\\nMac\\ncosts\\n6.70\\nSwiss\\nfranc.\\nIn\\nthe\\nUS,\\na\\nBig\\nMac\\ncosts\\n$5.58\\nUSD.\\nThe\\nimplied\\nexchange\\nrate\\nis\\n1.20\\nSFr/USD,\\nthat\\nis\\n6.70SFr/$5.58USD\\n=\\n1.20.\\nConsistent\\nwith\\nPPP\\neconomic\\ntheory,\\nthe\\nBig\\nMac\\nindex\\nalso\\nprovides\\na\\nmethod\\nto\\nanalyse\\na\\ncurrency’s\\nlevel\\nof\\nunder/over-valuation\\nagainst\\na\\nbase\\ncurrency.[9]\\nIn\\norder\\nto\\ncalculate\\nwhethera\\ncurrency\\nis\\nunder/over-valued,\\nthe\\nimplied\\nexchange\\nrate\\n(as\\ndefined\\nby\\nthe\\nBig\\nMac\\nindex)\\nmust\\nbe\\ncompared\\nto\\nthe\\nactual\\nexchange\\nrate.\\nIf\\nthe\\nimplied\\nexchange\\nrate\\nis\\ngreater\\nthan\\nthe\\nactual\\nexchange\\nrate,\\nthen\\nthe\\nanalysed\\ncurrency\\nis\\novervalued\\nagainst\\nthe\\nbase\\ncurrency.\\nIf\\nthe\\nimplied\\nexchange\\nrate\\nis\\nless\\nthan\\nthe\\nactual\\nexchange\\nrate,\\nthen\\nthe\\nanalysed\\ncurrency\\nis\\nundervalued\\nagainst\\nthe\\nbase\\ncurrency.\\nFor\\nexample,\\nusing\\nfigures\\nfor\\nJuly\\n2023:\\nThe\\nimplied\\nexchange\\nrate\\naccording\\nto\\nthe\\nBig\\nMac\\nindex\\nis\\n1.20\\nSFr/USD\\nThe\\nactual\\nexchange\\nrate\\nis\\n0.87\\nSFr/USD\\nThe\\nSwiss\\nfranc\\nis\\novervalued\\nby\\n38.5%\\nagainst\\nthe\\nUS\\ndollar,\\nthat\\nis\\n(1.20-0.87)/0.87\\n=\\n38.5%\\nVariants\\nThe\\nEconomist\\nsometimes\\nproduces\\nvariants\\non\\nthe\\ntheme.\\nFor\\nexample,\\nin\\nJanuary\\n2004,\\nit\\nshowed\\na\\nTall\\nLatte\\nindex\\nwith\\nthe\\nBig\\nMac\\nreplaced\\nby\\na\\ncup\\nof\\nStarbucks\\ncoffee.\\nIn\\n2007,\\nan\\nAustralian\\nbank\\ntried\\na\\nvariation\\nthe\\nBig\\nMac\\nindex,\\nbeing\\nan\\n\"iPod\\nindex\":\\nsince\\nthe\\niPod\\nis\\nmanufactured\\nat\\na\\nsingle\\nplace,\\nthe\\nvalue\\nof\\niPods\\nshould\\nbe\\nmore\\nconsistent\\nglobally.\\nHowever,\\nthis\\ntheory\\ncan\\nbe\\ncriticised\\nfor\\nignoring\\nshipping\\ncosts,\\nwhich\\nwill\\nvary\\ndepending\\non\\nhow\\nfar\\nthe\\nproduct\\nis\\ndelivered\\nfrom\\nits\\n\"single\\nplace\"\\nof\\nmanufacture\\nin\\nChina.\\nBloomberg\\nL.P.\\nintroduced\\nthe\\nBilly\\nindex\\nwhere\\nthey\\nconvert\\nlocal\\nprices\\nof\\nIKEA\\'s\\nBilly\\nbookshelf\\ninto\\nUS\\ndollars\\nand\\ncompare\\nthe\\nprices.\\nGold-Mac-Index:\\nThe\\nvalue\\nof\\nthe\\npurchasing\\npower\\nfor\\n1\\ng\\nof\\ngold\\n(\\ncalculation\\nof\\nthe\\ngold\\nprice\\naverage\\nof\\nthe\\ncorresponding\\nyear),\\nhow\\nmany\\nburgers\\none\\ngot\\nfor\\n1\\ng\\ngold.\\nA\\nSwiss\\nbank\\nhas\\nexpanded\\nthe\\nidea\\nof\\nthe\\nBig\\nMac\\nindex\\nto\\ninclude\\nthe\\namount\\nof\\ntime\\nthat\\nan\\naverage\\nlocal\\nworker\\nin\\na\\ngiven\\ncountry\\nmust\\nwork\\nto\\nearn\\nenough\\nto\\nbuy\\na\\nBig\\nMac.\\nIn\\n2017,\\nthe\\ncomparison\\nplatform\\nVersus\\ndid\\na\\nversion\\ncalled\\nThe\\nChai\\nLatte\\nGlobal\\nIndex,\\ncomparing\\nStarbucks\\nChai\\nLatte\\nprices\\nworldwide,\\nby\\nfirst\\nconverting\\nthe\\nlocal\\nprices\\ninto\\nUSD.\\nGlobal\\npersonal\\nfinance\\ncomparison\\nwebsite,\\nFinder.com,\\nreleased\\na\\nmore\\ncomprehensive\\nStarbucks\\nIndex\\nin\\n2019,\\nwhich\\nanalyzed\\ncoffee\\nprices\\nfor\\na\\ntall\\nlatte\\nin\\n76\\ncountries\\nand\\nautonomous\\nregions\\naround\\nthe\\nworld.\\nThe\\nreport\\nincluded\\na\\nLatte\\nLine,\\nwhich\\nmeasured\\nthe\\ncorrelation\\nbetween\\nthe\\nprice\\nof\\ncoffee\\nand\\na\\ncountry\\'s\\nGDP.\\nIn\\n2022,\\nTrusaic,\\na\\nprovider\\nof\\nequal\\npay\\ncompliance\\nsoftware,\\nunveiled\\na\\nnew\\nonline\\ntool\\ncalled\\nThe\\nBig\\nMac\\nPay\\nGap\\nIndex,\\nwhich\\nshows\\nhow\\nmuch\\nmore\\na\\nBig\\nMac\\nwould\\ncost\\nyou,\\nafter\\nadjusting\\nthe\\nmenu\\nprice\\nof\\na\\nBig\\nMac\\nto\\nreflect\\nwhatever\\npay\\ngap\\nyou\\nmay\\nface.\\nLimitations\\nWhile\\neconomists\\nwidely\\ncite\\nthe\\nBig\\nMac\\nindex\\nas\\na\\nreasonable\\nreal-world\\nmeasurement\\nof\\npurchasing\\npower\\nparity,\\nthe\\nburger\\nmethodology\\nhas\\nsome\\nlimitations.Map\\nof\\ncountries\\nwith\\nat\\nleast\\none\\nMcDonald\\'s\\nrestaurant,\\nshowing\\nthe\\nlack\\nof\\nrestaurants\\nin\\nAfrica\\n(2022)\\nThe\\nBig\\nMac\\nIndex\\nis\\nlimited\\nby\\ngeographical\\ncoverage,\\ndue\\nto\\nthe\\npresence\\nof\\nthe\\nMcDonald\\'s\\nfranchise.\\nFor\\nexample,\\nin\\nAfrica\\nMcDonald\\'s\\nis\\nonly\\npresent\\nin\\nMorocco,\\nEgypt,\\nSouth\\nAfrica\\nand\\nMauritius\\n(there\\nhas\\nbeen\\na\\nsimilar\\nindex\\ncreated\\nsolely\\nfor\\nAfrica\\ncalled\\nthe\\n\"KFC\\nIndex\":\\nas\\nthe\\nname\\nsuggests,\\ninstead\\nof\\nusing\\na\\nBig\\nMac,\\nthis\\nindex\\nuses\\nKFC\\'s\\nOriginal\\n15\\npc.\\nbucket\\nto\\ncompile\\nits\\ndata).\\nIn\\nmany\\ncountries,\\neating\\nat\\ninternational\\nfast-food\\nchain\\nrestaurants\\nsuch\\nas\\nMcDonald\\'s\\nis\\nrelatively\\nexpensive\\nin\\ncomparison\\nto\\neating\\nat\\na\\nlocal\\nrestaurant,\\nand\\nthe\\ndemand\\nfor\\nBig\\nMacs\\nis\\nnot\\nas\\nlarge\\nin\\ncountries\\nsuch\\nas\\nIndia\\nas\\nin\\nthe\\nUnited\\nStates.\\nSocial\\nstatus\\nof\\neating\\nat\\nfast\\nfood\\nrestaurants\\nsuch\\nas\\nMcDonald\\'s\\nin\\na\\nlocal\\nmarket,\\nwhat\\nproportion\\nof\\nsales\\nmight\\nbe\\nto\\nexpatriates,\\nlocal\\ntaxes,\\nlevels\\nof\\ncompetition,\\nand\\nimport\\nduties\\non\\nselected\\nitems\\nmay\\nnot\\nbe\\nrepresentative\\nof\\nthe\\ncountry\\'s\\neconomy\\nas\\na\\nwhole.\\nIn\\naddition,\\nthere\\nis\\nno\\ntheoretical\\nreason\\nwhy\\nnon-tradable\\ngoods\\nand\\nservices\\nsuch\\nas\\nproperty\\ncosts\\nshould\\nbe\\nequal\\nin\\ndifferent\\ncountries:\\nthis\\nis\\nthe\\ntheoretical\\nreason\\nfor\\nPPPs\\nbeing\\ndifferent\\nfrom\\nmarket\\nexchange\\nrates\\nover\\ntime.\\nThe\\nrelative\\ncost\\nof\\nhigh-margin\\nproducts,\\nsuch\\nas\\nessential\\npharmaceutical\\nproducts,\\nor\\ncellular\\ntelephony\\nmight\\ncompare\\nlocal\\ncapacity\\nand\\nwillingness\\nto\\npay,\\nas\\nmuch\\nas\\nrelative\\ncurrency\\nvalues.\\nNevertheless,\\nMcDonald\\'s\\nis\\nalso\\nusing\\ndifferent\\ncommercial\\nstrategies\\nwhich\\ncan\\nresult\\nin\\nhuge\\ndifferences\\nfor\\na\\nproduct.\\nOverall,\\nthe\\nprice\\nof\\na\\nBig\\nMac\\nwill\\nbe\\na\\nreflection\\nof\\nits\\nlocal\\nproduction\\nand\\ndelivery\\ncost,\\nthe\\ncost\\nof\\nadvertising\\n(considerable\\nin\\nsome\\nareas),\\nand\\nmost\\nimportantly\\nwhat\\nthe\\nlocal\\nmarket\\nwill\\nbear\\n–\\nquite\\ndifferent\\nfrom\\ncountry\\nto\\ncountry,\\nand\\nnot\\nall\\na\\nreflection\\nof\\nrelative\\ncurrency\\nvalues.\\nIn\\nsome\\nmarkets,\\na\\nhigh-volume\\nand\\nlow-margin\\napproach\\nmakes\\nmost\\nsense\\nto\\nmaximize\\nprofit,\\nwhile\\nin\\nothers\\na\\nhigher\\nmargin\\nwill\\ngenerate\\nmore\\nprofit.\\nThus\\nthe\\nrelative\\nprices\\nreflect\\nmore\\nthan\\ncurrency\\nvalues.\\nFor\\nexample,\\na\\nhamburger\\ncosts\\nonly\\n€1\\nin\\nFrance,\\nand\\n€1.50\\nin\\nBelgium,\\nbut\\noverall,\\nMcDonald\\'s\\nrestaurants\\nin\\nboth\\ncountries\\ncost\\nroughly\\nthe\\nsame.\\nPrices\\nof\\nBig\\nMacs\\ncan\\nalso\\nvary\\ngreatly\\nbetween\\ndifferent\\nareas\\nwithin\\na\\ncountry.\\nFor\\nexample,\\na\\nBig\\nMac\\nsold\\nin\\nNew\\nYork\\nCity\\nwill\\nbe\\nmore\\nexpensive\\nthan\\none\\nsold\\nat\\na\\nMcDonald\\'s\\nlocated\\nin\\na\\nrural\\narea.\\nOne\\nother\\nexample\\nis\\nthat\\nRussia\\nhad\\none\\nof\\nthe\\ncheapest\\nBig\\nMacs\\nat\\nits\\ntime\\nin\\n2019,\\ndespite\\nthe\\nfact\\nthat\\nMoscow\\nwas\\nthen\\nthe\\nmost\\nexpensive\\ncity\\nin\\nthe\\nworld.\\nStandard\\nfood\\ningredients\\nare\\ncheap\\nin\\nRussia,\\nwhile\\nrestaurants\\nsuitable\\nfor\\nbusiness\\ndinners\\nwith\\nEnglish\\nspeaking\\nstaff\\nare\\nexpensive.\\nManipulationCritics\\nof\\nthe\\npresidency\\nof\\nCristina\\nFernández\\nde\\nKirchner\\nin\\nArgentina\\nand\\nmany\\neconomists\\nbelieve\\nthat\\nthe\\ngovernment\\nhas\\nfor\\nyears\\nfalsified\\nconsumer\\nprice\\ndata\\nto\\nunderstate\\nthe\\ncountry\\'s\\ntrue\\ninflation\\nrate.\\nThe\\nEconomist\\nstated\\nin\\nJanuary\\n2011\\nthat\\nBig\\nMac\\nindex\\n\"does\\nsupport\\nclaims\\nthat\\nArgentina\\'s\\ngovernment\\nis\\ncooking\\nthe\\nbooks.\\nThe\\ngap\\nbetween\\nits\\naverage\\nannual\\nrate\\nof\\nburger\\ninflation\\n(19%)\\nand\\nits\\nofficial\\nrate\\n(10%)\\nis\\nfar\\nbigger\\nthan\\nin\\nany\\nother\\ncountry.\"\\nThat\\nyear\\nthe\\npress\\nbegan\\nreporting\\non\\nunusual\\nbehavior\\nby\\nthe\\nmore\\nthan\\n200\\nArgentinean\\nMcDonald\\'s\\nrestaurants.\\nThey\\nno\\nlonger\\nprominently\\nadvertised\\nBig\\nMacs\\nfor\\nsale\\nand\\nthe\\nsandwich,\\nboth\\nindividually\\nand\\nas\\npart\\nof\\nvalue\\nmeals,\\nwas\\nbeing\\nsold\\nfor\\nan\\nunusually\\nlow\\nprice\\ncompared\\nto\\nother\\nitems.\\nGuillermo\\nMoreno,\\nSecretary\\nof\\nCommerce\\nin\\nthe\\nKirchner\\ngovernment,\\nreportedly\\nforced\\nMcDonald\\'s\\nto\\nsell\\nthe\\nBig\\nMac\\nat\\nan\\nartificially\\nlow\\nprice\\nto\\nmanipulate\\nthe\\ncountry\\'s\\nperformance\\non\\nthe\\nBig\\nMac\\nindex.\\nIn\\nJune\\n2012,\\nthe\\nprice\\nof\\nthe\\nBig\\nMac\\nvalue\\nmeal\\nsuddenly\\nrose\\nby\\n26%,\\ncloser\\nto\\nthat\\nof\\nother\\nmeals,\\nafter\\nThe\\nEconomist,\\nThe\\nNew\\nYork\\nTimes,\\nand\\nother\\nmedia\\nreported\\non\\nthe\\nunusual\\npricing.\\nA\\nBuenos\\nAires\\nnewspaper\\nstated\\n\"Moreno\\nloses\\nthe\\nbattle\".\\nComparison\\nissues\\nThe\\nBig\\nMac\\n(and\\nvirtually\\nall\\nsandwiches)\\nvary\\nfrom\\ncountry\\nto\\ncountry\\nwith\\ndiffering\\nnutritional\\nvalues,\\nweights\\nand\\neven\\nnominal\\nsize\\ndifferences.\\nNot\\nall\\nBig\\nMac\\nburgers\\noffered\\nby\\nthe\\nchain\\nare\\nexclusively\\nbeef.\\nIn\\nIndia\\n–\\nwhich\\nis\\na\\npredominantly\\nHindu\\ncountry\\n–\\nbeef\\nburgers\\nare\\nnot\\navailable\\nat\\nany\\nMcDonald\\'s\\noutlets.\\nThe\\nChicken\\nMaharaja\\nMac\\nserves\\nas\\na\\nsubstitute\\nfor\\nthe\\nBig\\nMac.\\nThere\\nis\\na\\nlot\\nof\\nvariance\\nwith\\nthe\\nexclusively\\nbeef\\n\"Big\\nMac\":\\nthe\\nAustralian\\nversion\\nof\\nthe\\nBig\\nMac\\nhas\\n22%\\nfewer\\ncalories\\nthan\\nthe\\nCanadian\\nversion,\\nand\\nis\\n8%\\nlighter\\nthan\\nthe\\nversion\\nsold\\nin\\nMexico.\\nOn\\n1\\nNovember\\n2009,\\nall\\nthree\\nof\\nthe\\nMcDonald\\'s\\nin\\nIceland\\nclosed,\\nprimarily\\ndue\\nto\\nthe\\nchain\\'s\\nhigh\\ncost\\nof\\nimporting\\nmost\\nof\\nthe\\nchain\\'s\\nmeat\\nand\\nvegetables,\\nby\\nMcDonald\\'s\\ndemands\\nand\\nstandards,\\nfrom\\nthe\\nEurozone.\\nAt\\nthe\\ntime,\\na\\nBig\\nMac\\nin\\nIceland\\ncost\\n650\\nkrona\\n($5.29),\\nand\\nthe\\n20%\\nprice\\nincrease\\nthat\\nwould\\nhave\\nbeen\\nneeded\\nto\\nstay\\nin\\nbusiness\\nwould\\nhave\\nincreased\\nthat\\ncost\\nto\\n780\\nkrona\\n($6.36).\\nFish\\nand\\nlamb\\nare\\nproduced\\nin\\nIceland,\\nwhile\\nbeef\\nis\\noften\\nimported\\n(but\\nalso\\nexported).\\nFigures\\nSix\\nmost\\nexpensive\\n(July\\n2023)\\nThis\\nstatistic\\nshows\\nthe\\nmost\\nexpensive\\nplaces\\nto\\nbuy\\na\\nBig\\nMac.\\nSwitzerland\\n–\\n$7.73\\n(6.70\\nCHF)\\nNorway\\n–\\n$6.92\\n(70\\nNOK)\\nUruguay\\n–\\n$6.86\\n(259\\nUYU)\\nArgentina\\n–\\n$5.99\\n(1,650\\nARS)\\nEU\\n–\\n$5.82\\n(5.28\\nEUR)\\nSweden\\n–\\n$5.74\\n(60.27\\nSEK)Six\\ncheapest\\n(July\\n2023)\\nThis\\nstatistic\\nshows\\nthe\\nleast\\nexpensive\\nplaces\\nto\\nbuy\\na\\nBig\\nMac.\\nTaiwan\\n–\\n$2.39\\n(75\\nTWD)\\nIndonesia\\n–\\n$2.52\\n(38,000\\nIDR)\\nIndia\\n–\\n$2.54\\n(209\\nINR)\\nEgypt\\n–\\n$2.62\\n(81.00\\nEGP)\\nSouth\\nAfrica\\n–\\n$2.81\\n(49.90\\nZAR)\\nPhilippines\\n–\\n$2.82\\n(155\\nPHP)\\nSix\\nfastest\\nearned\\n(July\\n2015)\\nThis\\nstatistic\\nshows\\nthe\\naverage\\nworking\\ntime\\nrequired\\nto\\nbuy\\none\\nBig\\nMac\\nin\\nselected\\ncities\\naround\\nthe\\nworld\\nin\\n2015.\\nHong\\nKong\\n–\\n8.6\\nmin\\nLuxembourg\\n–\\n10.3\\nmin\\nJapan,\\nTokyo\\n–\\n10.4\\nmin\\nSwitzerland,\\nZürich\\n–\\n10.6\\nmin\\nUnited\\nStates,\\nMiami\\n–\\n10.7\\nmin\\nSwitzerland,\\nGeneva\\n–\\n10.8\\nmin\\nSix\\nslowest\\nearned\\n(July\\n2015)\\nThis\\nstatistic\\nshows\\nthe\\naverage\\nworking\\ntime\\nrequired\\nto\\nbuy\\none\\nBig\\nMac\\nin\\nselected\\ncities\\naround\\nthe\\nworld\\nin\\n2015.\\nKenya,\\nNairobi\\n–\\n172.6\\nmin\\nPhilippines,\\nManila\\n–\\n87.5\\nmin\\nMexico,\\nMexico\\nCity\\n–\\n78.4\\nmin\\nIndonesia,\\nJakarta\\n–\\n66.7\\nmin\\nEgypt,\\nCairo\\n–\\n62.5\\nmin\\nUkraine,\\nKyiv\\n–\\n54.7\\nmin'"
      ]
     },
     "execution_count": 6,
     "metadata": {},
     "output_type": "execute_result"
    }
   ],
   "source": [
    "extract_text_from_pdf(\"/Users/damodargupta/Desktop/Intellify-project/docs/Big_Mac_Index.pdf\")"
   ]
  },
  {
   "cell_type": "code",
   "execution_count": 7,
   "metadata": {},
   "outputs": [
    {
     "data": {
      "text/plain": [
       "['Big\\nMac\\nIndex\\nThe\\nBig\\nMac\\nIndex\\nis\\na\\nprice\\nindex\\npublished\\nsince\\n1986\\nby\\nThe\\nEconomist\\nas\\nan\\ninformal\\nway\\nof\\nmeasuring\\nthe\\npurchasing\\npower\\nparity\\n(PPP)\\nbetween\\ntwo\\ncurrencies\\nand\\nproviding\\na\\ntest\\nof\\nthe\\nextent\\nto\\nwhich\\nmarket\\nexchange\\nrates\\nresult\\nin\\ngoods\\ncosting\\nthe\\nsame\\nin\\ndifferent\\ncountries.\\nIt\\n\"seeks\\nto\\nmake\\nexchange-rate\\ntheory\\na\\nbit\\nmore\\ndigestible.\"\\nThe\\nindex\\ncompares\\nthe\\nrelative\\nprice\\nworldwide\\nto\\npurchase\\nthe\\nBig\\nMac,\\na\\nhamburger\\nsold\\nat\\nMcDonald\\'s\\nrestaurants.\\nOverview\\nThe\\nBig\\nMac\\nindex\\nwas\\nintroduced\\nin\\nThe\\nEconomist\\nin\\nSeptember\\n1986\\nby\\nPam\\nWoodall\\nas\\na\\nsemi-humorous\\nillustration\\nof\\nPPP\\nand\\nhas\\nbeen\\npublished\\nby\\nthat\\npaper\\nannually\\nsince\\nthen.\\nAlthough\\nthe\\nBig\\nMac\\nIndex\\nwas\\nnot\\nintended\\nto\\nbe\\na\\nlegitimate\\ntool\\nfor\\nexchange\\nrate\\nevaluation,\\nit\\nis\\nnow\\nglobally\\nrecognised\\nand\\nfeatured\\nin\\nmany\\nacademic\\ntextbooks\\nand\\nreports.\\nThe\\nindex\\nalso\\ngave\\nrise\\nto\\nthe\\nword\\nburgernomics.\\nThe\\ntheory\\nunderpinning\\nthe\\nBig\\nMac\\nindex\\nstems\\nfrom\\nthe\\nconcept\\nof\\nPPP,\\nwhich\\nstates\\nthat\\nthe',\n",
       " 'and\\nfeatured\\nin\\nmany\\nacademic\\ntextbooks\\nand\\nreports.\\nThe\\nindex\\nalso\\ngave\\nrise\\nto\\nthe\\nword\\nburgernomics.\\nThe\\ntheory\\nunderpinning\\nthe\\nBig\\nMac\\nindex\\nstems\\nfrom\\nthe\\nconcept\\nof\\nPPP,\\nwhich\\nstates\\nthat\\nthe\\nexchange\\nrate\\nbetween\\ntwo\\ncurrencies\\nshould\\nequalize\\nthe\\nprices\\ncharged\\nfor\\nan\\nidentical\\nbasket\\nof\\ngoods.\\nHowever,\\nin\\nreality,\\nsourcing\\nan\\nidentical\\nbasket\\nof\\ngoods\\nin\\nevery\\ncountry\\nprovides\\na\\ncomplex\\nchallenge.\\nAccording\\nto\\nthe\\nOrganisation\\nfor\\nEconomic\\nCo-operation\\nand\\nDevelopment\\n(OECD),\\nover\\n\"3,000\\nconsumer\\ngoods\\nand\\nservices,\\n30\\noccupations\\nin\\ngovernment,\\n200\\ntypes\\nof\\nequipment\\ngoods\\nand\\nabout\\n15\\nconstruction\\nprojects\"\\nare\\nincluded\\nin\\nthe\\ncurrent\\nPPP\\ncalculations.\\nIn\\nan\\neffort\\nto\\nsimplify\\nthis\\nimportant\\neconomic\\nconcept,\\nThe\\nEconomist\\nproposed\\nthat\\na\\nsingle\\nMcDonald’s\\nBig\\nMac\\ncould\\nbe\\nused\\ninstead\\nof\\na\\nbasket\\nof\\ngoods.\\nA\\nMcDonald’s\\nBig\\nMac\\nwas\\nchosen\\nbecause\\nof\\nthe\\nprevalence\\nof\\nthe\\nfast\\nfood\\nchain\\nworldwide,\\nand\\nbecause\\nthe\\nsandwich\\nremains\\nlargely\\nthe\\nsame\\nacross\\nall',\n",
       " 'Mac\\ncould\\nbe\\nused\\ninstead\\nof\\na\\nbasket\\nof\\ngoods.\\nA\\nMcDonald’s\\nBig\\nMac\\nwas\\nchosen\\nbecause\\nof\\nthe\\nprevalence\\nof\\nthe\\nfast\\nfood\\nchain\\nworldwide,\\nand\\nbecause\\nthe\\nsandwich\\nremains\\nlargely\\nthe\\nsame\\nacross\\nall\\ncountries.Although\\na\\nsingle\\nsandwich\\nmay\\nseem\\noverly\\nsimplistic\\nfor\\nPPP\\ntheory,\\nthe\\nprice\\nof\\na\\nBig\\nMac\\nis\\nderived\\nfrom\\nthe\\nculmination\\nof\\n\"many\\nlocal\\neconomic\\nfactors,\\nsuch\\nas\\nthe\\nprice\\nof\\nthe\\ningredients,\\nlocal\\nwages,\\nor\\nhow\\nmuch\\nit\\ncosts\\nto\\nput\\nup\\nbillboards\\nand\\nbuy\\nTV\\nads\".\\nAs\\na\\nresult,\\nthe\\nBig\\nMac\\nindex\\nprovides\\na\\n\"reasonable\\nmeasure\\nof\\nreal-world\\npurchasing\\npower\".\\nThe\\npurpose\\nof\\nthe\\nBig\\nMac\\nindex\\nis\\nto\\ncalculate\\nan\\nimplied\\nexchange\\nrate\\nbetween\\ntwo\\ncurrencies.\\nIn\\norder\\nto\\ncalculate\\nthe\\nBig\\nMac\\nindex,\\nthe\\nprice\\nof\\na\\nBig\\nMac\\nin\\na\\nforeign\\ncountry\\n(in\\nthe\\nforeign\\ncountry’s\\ncurrency)\\nis\\ndivided\\nby\\nthe\\nprice\\nof\\na\\nBig\\nMac\\nin\\na\\nbase\\ncountry\\n(in\\nthe\\nbase\\ncountry’s\\ncurrency).\\nTypically,\\nthe\\nbase\\ncountry\\nused\\nis\\nthe\\nUnited\\nStates.\\nFor\\nexample,\\nusing\\nfigures\\nfrom\\nJuly\\n2023\\nIn\\nSwitzerland,\\na\\nBig',\n",
       " 'by\\nthe\\nprice\\nof\\na\\nBig\\nMac\\nin\\na\\nbase\\ncountry\\n(in\\nthe\\nbase\\ncountry’s\\ncurrency).\\nTypically,\\nthe\\nbase\\ncountry\\nused\\nis\\nthe\\nUnited\\nStates.\\nFor\\nexample,\\nusing\\nfigures\\nfrom\\nJuly\\n2023\\nIn\\nSwitzerland,\\na\\nBig\\nMac\\ncosts\\n6.70\\nSwiss\\nfranc.\\nIn\\nthe\\nUS,\\na\\nBig\\nMac\\ncosts\\n$5.58\\nUSD.\\nThe\\nimplied\\nexchange\\nrate\\nis\\n1.20\\nSFr/USD,\\nthat\\nis\\n6.70SFr/$5.58USD\\n=\\n1.20.\\nConsistent\\nwith\\nPPP\\neconomic\\ntheory,\\nthe\\nBig\\nMac\\nindex\\nalso\\nprovides\\na\\nmethod\\nto\\nanalyse\\na\\ncurrency’s\\nlevel\\nof\\nunder/over-valuation\\nagainst\\na\\nbase\\ncurrency.[9]\\nIn\\norder\\nto\\ncalculate\\nwhethera\\ncurrency\\nis\\nunder/over-valued,\\nthe\\nimplied\\nexchange\\nrate\\n(as\\ndefined\\nby\\nthe\\nBig\\nMac\\nindex)\\nmust\\nbe\\ncompared\\nto\\nthe\\nactual\\nexchange\\nrate.\\nIf\\nthe\\nimplied\\nexchange\\nrate\\nis\\ngreater\\nthan\\nthe\\nactual\\nexchange\\nrate,\\nthen\\nthe\\nanalysed\\ncurrency\\nis\\novervalued\\nagainst\\nthe\\nbase\\ncurrency.\\nIf\\nthe\\nimplied\\nexchange\\nrate\\nis\\nless\\nthan\\nthe\\nactual\\nexchange\\nrate,\\nthen\\nthe\\nanalysed\\ncurrency\\nis\\nundervalued\\nagainst\\nthe\\nbase\\ncurrency.\\nFor\\nexample,\\nusing\\nfigures\\nfor\\nJuly\\n2023:\\nThe\\nimplied',\n",
       " 'currency.\\nIf\\nthe\\nimplied\\nexchange\\nrate\\nis\\nless\\nthan\\nthe\\nactual\\nexchange\\nrate,\\nthen\\nthe\\nanalysed\\ncurrency\\nis\\nundervalued\\nagainst\\nthe\\nbase\\ncurrency.\\nFor\\nexample,\\nusing\\nfigures\\nfor\\nJuly\\n2023:\\nThe\\nimplied\\nexchange\\nrate\\naccording\\nto\\nthe\\nBig\\nMac\\nindex\\nis\\n1.20\\nSFr/USD\\nThe\\nactual\\nexchange\\nrate\\nis\\n0.87\\nSFr/USD\\nThe\\nSwiss\\nfranc\\nis\\novervalued\\nby\\n38.5%\\nagainst\\nthe\\nUS\\ndollar,\\nthat\\nis\\n(1.20-0.87)/0.87\\n=\\n38.5%\\nVariants\\nThe\\nEconomist\\nsometimes\\nproduces\\nvariants\\non\\nthe\\ntheme.\\nFor\\nexample,\\nin\\nJanuary\\n2004,\\nit\\nshowed\\na\\nTall\\nLatte\\nindex\\nwith\\nthe\\nBig\\nMac\\nreplaced\\nby\\na\\ncup\\nof\\nStarbucks\\ncoffee.\\nIn\\n2007,\\nan\\nAustralian\\nbank\\ntried\\na\\nvariation\\nthe\\nBig\\nMac\\nindex,\\nbeing\\nan\\n\"iPod\\nindex\":\\nsince\\nthe\\niPod\\nis\\nmanufactured\\nat\\na\\nsingle\\nplace,\\nthe\\nvalue\\nof\\niPods\\nshould\\nbe\\nmore\\nconsistent\\nglobally.\\nHowever,\\nthis\\ntheory\\ncan\\nbe\\ncriticised\\nfor\\nignoring\\nshipping\\ncosts,\\nwhich\\nwill\\nvary\\ndepending\\non\\nhow\\nfar\\nthe\\nproduct\\nis\\ndelivered\\nfrom\\nits\\n\"single\\nplace\"\\nof\\nmanufacture\\nin\\nChina.\\nBloomberg\\nL.P.\\nintroduced\\nthe\\nBilly\\nindex\\nwhere',\n",
       " 'criticised\\nfor\\nignoring\\nshipping\\ncosts,\\nwhich\\nwill\\nvary\\ndepending\\non\\nhow\\nfar\\nthe\\nproduct\\nis\\ndelivered\\nfrom\\nits\\n\"single\\nplace\"\\nof\\nmanufacture\\nin\\nChina.\\nBloomberg\\nL.P.\\nintroduced\\nthe\\nBilly\\nindex\\nwhere\\nthey\\nconvert\\nlocal\\nprices\\nof\\nIKEA\\'s\\nBilly\\nbookshelf\\ninto\\nUS\\ndollars\\nand\\ncompare\\nthe\\nprices.\\nGold-Mac-Index:\\nThe\\nvalue\\nof\\nthe\\npurchasing\\npower\\nfor\\n1\\ng\\nof\\ngold\\n(\\ncalculation\\nof\\nthe\\ngold\\nprice\\naverage\\nof\\nthe\\ncorresponding\\nyear),\\nhow\\nmany\\nburgers\\none\\ngot\\nfor\\n1\\ng\\ngold.\\nA\\nSwiss\\nbank\\nhas\\nexpanded\\nthe\\nidea\\nof\\nthe\\nBig\\nMac\\nindex\\nto\\ninclude\\nthe\\namount\\nof\\ntime\\nthat\\nan\\naverage\\nlocal\\nworker\\nin\\na\\ngiven\\ncountry\\nmust\\nwork\\nto\\nearn\\nenough\\nto\\nbuy\\na\\nBig\\nMac.\\nIn\\n2017,\\nthe\\ncomparison\\nplatform\\nVersus\\ndid\\na\\nversion\\ncalled\\nThe\\nChai\\nLatte\\nGlobal\\nIndex,\\ncomparing\\nStarbucks\\nChai\\nLatte\\nprices\\nworldwide,\\nby\\nfirst\\nconverting\\nthe\\nlocal\\nprices\\ninto\\nUSD.\\nGlobal\\npersonal\\nfinance\\ncomparison\\nwebsite,\\nFinder.com,\\nreleased\\na\\nmore\\ncomprehensive\\nStarbucks\\nIndex\\nin\\n2019,\\nwhich\\nanalyzed\\ncoffee\\nprices\\nfor\\na\\ntall\\nlatte\\nin\\n76\\ncountries',\n",
       " \"the\\nlocal\\nprices\\ninto\\nUSD.\\nGlobal\\npersonal\\nfinance\\ncomparison\\nwebsite,\\nFinder.com,\\nreleased\\na\\nmore\\ncomprehensive\\nStarbucks\\nIndex\\nin\\n2019,\\nwhich\\nanalyzed\\ncoffee\\nprices\\nfor\\na\\ntall\\nlatte\\nin\\n76\\ncountries\\nand\\nautonomous\\nregions\\naround\\nthe\\nworld.\\nThe\\nreport\\nincluded\\na\\nLatte\\nLine,\\nwhich\\nmeasured\\nthe\\ncorrelation\\nbetween\\nthe\\nprice\\nof\\ncoffee\\nand\\na\\ncountry's\\nGDP.\\nIn\\n2022,\\nTrusaic,\\na\\nprovider\\nof\\nequal\\npay\\ncompliance\\nsoftware,\\nunveiled\\na\\nnew\\nonline\\ntool\\ncalled\\nThe\\nBig\\nMac\\nPay\\nGap\\nIndex,\\nwhich\\nshows\\nhow\\nmuch\\nmore\\na\\nBig\\nMac\\nwould\\ncost\\nyou,\\nafter\\nadjusting\\nthe\\nmenu\\nprice\\nof\\na\\nBig\\nMac\\nto\\nreflect\\nwhatever\\npay\\ngap\\nyou\\nmay\\nface.\\nLimitations\\nWhile\\neconomists\\nwidely\\ncite\\nthe\\nBig\\nMac\\nindex\\nas\\na\\nreasonable\\nreal-world\\nmeasurement\\nof\\npurchasing\\npower\\nparity,\\nthe\\nburger\\nmethodology\\nhas\\nsome\\nlimitations.Map\\nof\\ncountries\\nwith\\nat\\nleast\\none\\nMcDonald's\\nrestaurant,\\nshowing\\nthe\\nlack\\nof\\nrestaurants\\nin\\nAfrica\\n(2022)\\nThe\\nBig\\nMac\\nIndex\\nis\\nlimited\\nby\\ngeographical\\ncoverage,\\ndue\\nto\\nthe\\npresence\\nof\\nthe\\nMcDonald's\\nfranchise.\",\n",
       " 'with\\nat\\nleast\\none\\nMcDonald\\'s\\nrestaurant,\\nshowing\\nthe\\nlack\\nof\\nrestaurants\\nin\\nAfrica\\n(2022)\\nThe\\nBig\\nMac\\nIndex\\nis\\nlimited\\nby\\ngeographical\\ncoverage,\\ndue\\nto\\nthe\\npresence\\nof\\nthe\\nMcDonald\\'s\\nfranchise.\\nFor\\nexample,\\nin\\nAfrica\\nMcDonald\\'s\\nis\\nonly\\npresent\\nin\\nMorocco,\\nEgypt,\\nSouth\\nAfrica\\nand\\nMauritius\\n(there\\nhas\\nbeen\\na\\nsimilar\\nindex\\ncreated\\nsolely\\nfor\\nAfrica\\ncalled\\nthe\\n\"KFC\\nIndex\":\\nas\\nthe\\nname\\nsuggests,\\ninstead\\nof\\nusing\\na\\nBig\\nMac,\\nthis\\nindex\\nuses\\nKFC\\'s\\nOriginal\\n15\\npc.\\nbucket\\nto\\ncompile\\nits\\ndata).\\nIn\\nmany\\ncountries,\\neating\\nat\\ninternational\\nfast-food\\nchain\\nrestaurants\\nsuch\\nas\\nMcDonald\\'s\\nis\\nrelatively\\nexpensive\\nin\\ncomparison\\nto\\neating\\nat\\na\\nlocal\\nrestaurant,\\nand\\nthe\\ndemand\\nfor\\nBig\\nMacs\\nis\\nnot\\nas\\nlarge\\nin\\ncountries\\nsuch\\nas\\nIndia\\nas\\nin\\nthe\\nUnited\\nStates.\\nSocial\\nstatus\\nof\\neating\\nat\\nfast\\nfood\\nrestaurants\\nsuch\\nas\\nMcDonald\\'s\\nin\\na\\nlocal\\nmarket,\\nwhat\\nproportion\\nof\\nsales\\nmight\\nbe\\nto\\nexpatriates,\\nlocal\\ntaxes,\\nlevels\\nof\\ncompetition,\\nand\\nimport\\nduties\\non\\nselected\\nitems\\nmay\\nnot\\nbe\\nrepresentative\\nof\\nthe\\ncountry\\'s',\n",
       " \"as\\nMcDonald's\\nin\\na\\nlocal\\nmarket,\\nwhat\\nproportion\\nof\\nsales\\nmight\\nbe\\nto\\nexpatriates,\\nlocal\\ntaxes,\\nlevels\\nof\\ncompetition,\\nand\\nimport\\nduties\\non\\nselected\\nitems\\nmay\\nnot\\nbe\\nrepresentative\\nof\\nthe\\ncountry's\\neconomy\\nas\\na\\nwhole.\\nIn\\naddition,\\nthere\\nis\\nno\\ntheoretical\\nreason\\nwhy\\nnon-tradable\\ngoods\\nand\\nservices\\nsuch\\nas\\nproperty\\ncosts\\nshould\\nbe\\nequal\\nin\\ndifferent\\ncountries:\\nthis\\nis\\nthe\\ntheoretical\\nreason\\nfor\\nPPPs\\nbeing\\ndifferent\\nfrom\\nmarket\\nexchange\\nrates\\nover\\ntime.\\nThe\\nrelative\\ncost\\nof\\nhigh-margin\\nproducts,\\nsuch\\nas\\nessential\\npharmaceutical\\nproducts,\\nor\\ncellular\\ntelephony\\nmight\\ncompare\\nlocal\\ncapacity\\nand\\nwillingness\\nto\\npay,\\nas\\nmuch\\nas\\nrelative\\ncurrency\\nvalues.\\nNevertheless,\\nMcDonald's\\nis\\nalso\\nusing\\ndifferent\\ncommercial\\nstrategies\\nwhich\\ncan\\nresult\\nin\\nhuge\\ndifferences\\nfor\\na\\nproduct.\\nOverall,\\nthe\\nprice\\nof\\na\\nBig\\nMac\\nwill\\nbe\\na\\nreflection\\nof\\nits\\nlocal\\nproduction\\nand\\ndelivery\\ncost,\\nthe\\ncost\\nof\\nadvertising\\n(considerable\\nin\\nsome\\nareas),\\nand\\nmost\\nimportantly\\nwhat\\nthe\\nlocal\\nmarket\\nwill\\nbear\\n–\\nquite\\ndifferent\",\n",
       " \"a\\nBig\\nMac\\nwill\\nbe\\na\\nreflection\\nof\\nits\\nlocal\\nproduction\\nand\\ndelivery\\ncost,\\nthe\\ncost\\nof\\nadvertising\\n(considerable\\nin\\nsome\\nareas),\\nand\\nmost\\nimportantly\\nwhat\\nthe\\nlocal\\nmarket\\nwill\\nbear\\n–\\nquite\\ndifferent\\nfrom\\ncountry\\nto\\ncountry,\\nand\\nnot\\nall\\na\\nreflection\\nof\\nrelative\\ncurrency\\nvalues.\\nIn\\nsome\\nmarkets,\\na\\nhigh-volume\\nand\\nlow-margin\\napproach\\nmakes\\nmost\\nsense\\nto\\nmaximize\\nprofit,\\nwhile\\nin\\nothers\\na\\nhigher\\nmargin\\nwill\\ngenerate\\nmore\\nprofit.\\nThus\\nthe\\nrelative\\nprices\\nreflect\\nmore\\nthan\\ncurrency\\nvalues.\\nFor\\nexample,\\na\\nhamburger\\ncosts\\nonly\\n€1\\nin\\nFrance,\\nand\\n€1.50\\nin\\nBelgium,\\nbut\\noverall,\\nMcDonald's\\nrestaurants\\nin\\nboth\\ncountries\\ncost\\nroughly\\nthe\\nsame.\\nPrices\\nof\\nBig\\nMacs\\ncan\\nalso\\nvary\\ngreatly\\nbetween\\ndifferent\\nareas\\nwithin\\na\\ncountry.\\nFor\\nexample,\\na\\nBig\\nMac\\nsold\\nin\\nNew\\nYork\\nCity\\nwill\\nbe\\nmore\\nexpensive\\nthan\\none\\nsold\\nat\\na\\nMcDonald's\\nlocated\\nin\\na\\nrural\\narea.\\nOne\\nother\\nexample\\nis\\nthat\\nRussia\\nhad\\none\\nof\\nthe\\ncheapest\\nBig\\nMacs\\nat\\nits\\ntime\\nin\\n2019,\\ndespite\\nthe\\nfact\\nthat\\nMoscow\\nwas\\nthen\\nthe\\nmost\\nexpensive\\ncity\\nin\\nthe\",\n",
       " 'at\\na\\nMcDonald\\'s\\nlocated\\nin\\na\\nrural\\narea.\\nOne\\nother\\nexample\\nis\\nthat\\nRussia\\nhad\\none\\nof\\nthe\\ncheapest\\nBig\\nMacs\\nat\\nits\\ntime\\nin\\n2019,\\ndespite\\nthe\\nfact\\nthat\\nMoscow\\nwas\\nthen\\nthe\\nmost\\nexpensive\\ncity\\nin\\nthe\\nworld.\\nStandard\\nfood\\ningredients\\nare\\ncheap\\nin\\nRussia,\\nwhile\\nrestaurants\\nsuitable\\nfor\\nbusiness\\ndinners\\nwith\\nEnglish\\nspeaking\\nstaff\\nare\\nexpensive.\\nManipulationCritics\\nof\\nthe\\npresidency\\nof\\nCristina\\nFernández\\nde\\nKirchner\\nin\\nArgentina\\nand\\nmany\\neconomists\\nbelieve\\nthat\\nthe\\ngovernment\\nhas\\nfor\\nyears\\nfalsified\\nconsumer\\nprice\\ndata\\nto\\nunderstate\\nthe\\ncountry\\'s\\ntrue\\ninflation\\nrate.\\nThe\\nEconomist\\nstated\\nin\\nJanuary\\n2011\\nthat\\nBig\\nMac\\nindex\\n\"does\\nsupport\\nclaims\\nthat\\nArgentina\\'s\\ngovernment\\nis\\ncooking\\nthe\\nbooks.\\nThe\\ngap\\nbetween\\nits\\naverage\\nannual\\nrate\\nof\\nburger\\ninflation\\n(19%)\\nand\\nits\\nofficial\\nrate\\n(10%)\\nis\\nfar\\nbigger\\nthan\\nin\\nany\\nother\\ncountry.\"\\nThat\\nyear\\nthe\\npress\\nbegan\\nreporting\\non\\nunusual\\nbehavior\\nby\\nthe\\nmore\\nthan\\n200\\nArgentinean\\nMcDonald\\'s\\nrestaurants.\\nThey\\nno\\nlonger\\nprominently\\nadvertised\\nBig\\nMacs\\nfor\\nsale',\n",
       " 'than\\nin\\nany\\nother\\ncountry.\"\\nThat\\nyear\\nthe\\npress\\nbegan\\nreporting\\non\\nunusual\\nbehavior\\nby\\nthe\\nmore\\nthan\\n200\\nArgentinean\\nMcDonald\\'s\\nrestaurants.\\nThey\\nno\\nlonger\\nprominently\\nadvertised\\nBig\\nMacs\\nfor\\nsale\\nand\\nthe\\nsandwich,\\nboth\\nindividually\\nand\\nas\\npart\\nof\\nvalue\\nmeals,\\nwas\\nbeing\\nsold\\nfor\\nan\\nunusually\\nlow\\nprice\\ncompared\\nto\\nother\\nitems.\\nGuillermo\\nMoreno,\\nSecretary\\nof\\nCommerce\\nin\\nthe\\nKirchner\\ngovernment,\\nreportedly\\nforced\\nMcDonald\\'s\\nto\\nsell\\nthe\\nBig\\nMac\\nat\\nan\\nartificially\\nlow\\nprice\\nto\\nmanipulate\\nthe\\ncountry\\'s\\nperformance\\non\\nthe\\nBig\\nMac\\nindex.\\nIn\\nJune\\n2012,\\nthe\\nprice\\nof\\nthe\\nBig\\nMac\\nvalue\\nmeal\\nsuddenly\\nrose\\nby\\n26%,\\ncloser\\nto\\nthat\\nof\\nother\\nmeals,\\nafter\\nThe\\nEconomist,\\nThe\\nNew\\nYork\\nTimes,\\nand\\nother\\nmedia\\nreported\\non\\nthe\\nunusual\\npricing.\\nA\\nBuenos\\nAires\\nnewspaper\\nstated\\n\"Moreno\\nloses\\nthe\\nbattle\".\\nComparison\\nissues\\nThe\\nBig\\nMac\\n(and\\nvirtually\\nall\\nsandwiches)\\nvary\\nfrom\\ncountry\\nto\\ncountry\\nwith\\ndiffering\\nnutritional\\nvalues,\\nweights\\nand\\neven\\nnominal\\nsize\\ndifferences.\\nNot\\nall\\nBig\\nMac\\nburgers\\noffered\\nby\\nthe\\nchain',\n",
       " 'The\\nBig\\nMac\\n(and\\nvirtually\\nall\\nsandwiches)\\nvary\\nfrom\\ncountry\\nto\\ncountry\\nwith\\ndiffering\\nnutritional\\nvalues,\\nweights\\nand\\neven\\nnominal\\nsize\\ndifferences.\\nNot\\nall\\nBig\\nMac\\nburgers\\noffered\\nby\\nthe\\nchain\\nare\\nexclusively\\nbeef.\\nIn\\nIndia\\n–\\nwhich\\nis\\na\\npredominantly\\nHindu\\ncountry\\n–\\nbeef\\nburgers\\nare\\nnot\\navailable\\nat\\nany\\nMcDonald\\'s\\noutlets.\\nThe\\nChicken\\nMaharaja\\nMac\\nserves\\nas\\na\\nsubstitute\\nfor\\nthe\\nBig\\nMac.\\nThere\\nis\\na\\nlot\\nof\\nvariance\\nwith\\nthe\\nexclusively\\nbeef\\n\"Big\\nMac\":\\nthe\\nAustralian\\nversion\\nof\\nthe\\nBig\\nMac\\nhas\\n22%\\nfewer\\ncalories\\nthan\\nthe\\nCanadian\\nversion,\\nand\\nis\\n8%\\nlighter\\nthan\\nthe\\nversion\\nsold\\nin\\nMexico.\\nOn\\n1\\nNovember\\n2009,\\nall\\nthree\\nof\\nthe\\nMcDonald\\'s\\nin\\nIceland\\nclosed,\\nprimarily\\ndue\\nto\\nthe\\nchain\\'s\\nhigh\\ncost\\nof\\nimporting\\nmost\\nof\\nthe\\nchain\\'s\\nmeat\\nand\\nvegetables,\\nby\\nMcDonald\\'s\\ndemands\\nand\\nstandards,\\nfrom\\nthe\\nEurozone.\\nAt\\nthe\\ntime,\\na\\nBig\\nMac\\nin\\nIceland\\ncost\\n650\\nkrona\\n($5.29),\\nand\\nthe\\n20%\\nprice\\nincrease\\nthat\\nwould\\nhave\\nbeen\\nneeded\\nto\\nstay\\nin\\nbusiness\\nwould\\nhave\\nincreased\\nthat\\ncost\\nto\\n780\\nkrona\\n($6.36).',\n",
       " 'the\\nEurozone.\\nAt\\nthe\\ntime,\\na\\nBig\\nMac\\nin\\nIceland\\ncost\\n650\\nkrona\\n($5.29),\\nand\\nthe\\n20%\\nprice\\nincrease\\nthat\\nwould\\nhave\\nbeen\\nneeded\\nto\\nstay\\nin\\nbusiness\\nwould\\nhave\\nincreased\\nthat\\ncost\\nto\\n780\\nkrona\\n($6.36).\\nFish\\nand\\nlamb\\nare\\nproduced\\nin\\nIceland,\\nwhile\\nbeef\\nis\\noften\\nimported\\n(but\\nalso\\nexported).\\nFigures\\nSix\\nmost\\nexpensive\\n(July\\n2023)\\nThis\\nstatistic\\nshows\\nthe\\nmost\\nexpensive\\nplaces\\nto\\nbuy\\na\\nBig\\nMac.\\nSwitzerland\\n–\\n$7.73\\n(6.70\\nCHF)\\nNorway\\n–\\n$6.92\\n(70\\nNOK)\\nUruguay\\n–\\n$6.86\\n(259\\nUYU)\\nArgentina\\n–\\n$5.99\\n(1,650\\nARS)\\nEU\\n–\\n$5.82\\n(5.28\\nEUR)\\nSweden\\n–\\n$5.74\\n(60.27\\nSEK)Six\\ncheapest\\n(July\\n2023)\\nThis\\nstatistic\\nshows\\nthe\\nleast\\nexpensive\\nplaces\\nto\\nbuy\\na\\nBig\\nMac.\\nTaiwan\\n–\\n$2.39\\n(75\\nTWD)\\nIndonesia\\n–\\n$2.52\\n(38,000\\nIDR)\\nIndia\\n–\\n$2.54\\n(209\\nINR)\\nEgypt\\n–\\n$2.62\\n(81.00\\nEGP)\\nSouth\\nAfrica\\n–\\n$2.81\\n(49.90\\nZAR)\\nPhilippines\\n–\\n$2.82\\n(155\\nPHP)\\nSix\\nfastest\\nearned\\n(July\\n2015)\\nThis\\nstatistic\\nshows\\nthe\\naverage\\nworking\\ntime\\nrequired\\nto\\nbuy\\none\\nBig\\nMac\\nin\\nselected\\ncities\\naround\\nthe\\nworld\\nin\\n2015.\\nHong\\nKong\\n–\\n8.6\\nmin\\nLuxembourg\\n–\\n10.3',\n",
       " '(155\\nPHP)\\nSix\\nfastest\\nearned\\n(July\\n2015)\\nThis\\nstatistic\\nshows\\nthe\\naverage\\nworking\\ntime\\nrequired\\nto\\nbuy\\none\\nBig\\nMac\\nin\\nselected\\ncities\\naround\\nthe\\nworld\\nin\\n2015.\\nHong\\nKong\\n–\\n8.6\\nmin\\nLuxembourg\\n–\\n10.3\\nmin\\nJapan,\\nTokyo\\n–\\n10.4\\nmin\\nSwitzerland,\\nZürich\\n–\\n10.6\\nmin\\nUnited\\nStates,\\nMiami\\n–\\n10.7\\nmin\\nSwitzerland,\\nGeneva\\n–\\n10.8\\nmin\\nSix\\nslowest\\nearned\\n(July\\n2015)\\nThis\\nstatistic\\nshows\\nthe\\naverage\\nworking\\ntime\\nrequired\\nto\\nbuy\\none\\nBig\\nMac\\nin\\nselected\\ncities\\naround\\nthe\\nworld\\nin\\n2015.\\nKenya,\\nNairobi\\n–\\n172.6\\nmin\\nPhilippines,\\nManila\\n–\\n87.5\\nmin\\nMexico,\\nMexico\\nCity\\n–\\n78.4\\nmin\\nIndonesia,\\nJakarta\\n–\\n66.7\\nmin\\nEgypt,\\nCairo\\n–\\n62.5\\nmin\\nUkraine,\\nKyiv\\n–\\n54.7\\nmin']"
      ]
     },
     "execution_count": 7,
     "metadata": {},
     "output_type": "execute_result"
    }
   ],
   "source": [
    "get_text_chunks(text)"
   ]
  },
  {
   "cell_type": "code",
   "execution_count": 8,
   "metadata": {},
   "outputs": [],
   "source": [
    "text = text.replace(\"\\n\" , \" \")"
   ]
  },
  {
   "attachments": {},
   "cell_type": "markdown",
   "metadata": {},
   "source": [
    "# cleaning the text"
   ]
  },
  {
   "cell_type": "code",
   "execution_count": 9,
   "metadata": {},
   "outputs": [
    {
     "name": "stdout",
     "output_type": "stream",
     "text": [
      "['Big Mac Index The Big Mac Index is a price index published since 1986 by The Economist as an informal way of measuring the purchasing power parity (PPP) between two currencies and providing a test of the extent to which market exchange rates result in goods costing the same in different countries.', 'It \"seeks to make exchange-rate theory a bit more digestible.\"', \"The index compares the relative price worldwide to purchase the Big Mac, a hamburger sold at McDonald's restaurants.\", 'Overview The Big Mac index was introduced in The Economist in September 1986 by Pam Woodall as a semi-humorous illustration of PPP and has been published by that paper annually since then.', 'Although the Big Mac Index was not intended to be a legitimate tool for exchange rate evaluation, it is now globally recognised and featured in many academic textbooks and reports.', 'The index also gave rise to the word burgernomics.', 'The theory underpinning the Big Mac index stems from the concept of PPP, which states that the exchange rate between two currencies should equalize the prices charged for an identical basket of goods.', 'However, in reality, sourcing an identical basket of goods in every country provides a complex challenge.', 'According to the Organisation for Economic Co-operation and Development (OECD), over \"3,000 consumer goods and services, 30 occupations in government, 200 types of equipment goods and about 15 construction projects\" are included in the current PPP calculations.', 'In an effort to simplify this important economic concept, The Economist proposed that a single McDonald’s Big Mac could be used instead of a basket of goods.', 'A McDonald’s Big Mac was chosen because of the prevalence of the fast food chain worldwide, and because the sandwich remains largely the same across all countries.Although a single sandwich may seem overly simplistic for PPP theory, the price of a Big Mac is derived from the culmination of \"many local economic factors, such as the price of the ingredients, local wages, or how much it costs to put up billboards and buy TV ads\".', 'As a result, the Big Mac index provides a \"reasonable measure of real-world purchasing power\".', 'The purpose of the Big Mac index is to calculate an implied exchange rate between two currencies.', 'In order to calculate the Big Mac index, the price of a Big Mac in a foreign country (in the foreign country’s currency) is divided by the price of a Big Mac in a base country (in the base country’s currency).', 'Typically, the base country used is the United States.', 'For example, using figures from July 2023 In Switzerland, a Big Mac costs 6.70 Swiss franc.', 'In the US, a Big Mac costs $5.58 USD.', 'The implied exchange rate is 1.20 SFr/USD, that is 6.70SFr/$5.58USD = 1.20.', 'Consistent with PPP economic theory, the Big Mac index also provides a method to analyse a currency’s level of under/over-valuation against a base currency.', '[9] In order to calculate whethera currency is under/over-valued, the implied exchange rate (as defined by the Big Mac index) must be compared to the actual exchange rate.', 'If the implied exchange rate is greater than the actual exchange rate, then the analysed currency is overvalued against the base currency.', 'If the implied exchange rate is less than the actual exchange rate, then the analysed currency is undervalued against the base currency.', 'For example, using figures for July 2023: The implied exchange rate according to the Big Mac index is 1.20 SFr/USD The actual exchange rate is 0.87 SFr/USD The Swiss franc is overvalued by 38.5% against the US dollar, that is (1.20-0.87)/0.87 = 38.5% Variants The Economist sometimes produces variants on the theme.', 'For example, in January 2004, it showed a Tall Latte index with the Big Mac replaced by a cup of Starbucks coffee.', 'In 2007, an Australian bank tried a variation the Big Mac index, being an \"iPod index\": since the iPod is manufactured at a single place, the value of iPods should be more consistent globally.', 'However, this theory can be criticised for ignoring shipping costs, which will vary depending on how far the product is delivered from its \"single place\" of manufacture in China.', \"Bloomberg L.P. introduced the Billy index where they convert local prices of IKEA's Billy bookshelf into US dollars and compare the prices.\", 'Gold-Mac-Index: The value of the purchasing power for 1 g of gold ( calculation of the gold price average of the corresponding year), how many burgers one got for 1 g gold.', 'A Swiss bank has expanded the idea of the Big Mac index to include the amount of time that an average local worker in a given country must work to earn enough to buy a Big Mac.', 'In 2017, the comparison platform Versus did a version called The Chai Latte Global Index, comparing Starbucks Chai Latte prices worldwide, by first converting the local prices into USD.', 'Global personal finance comparison website, Finder.com, released a more comprehensive Starbucks Index in 2019, which analyzed coffee prices for a tall latte in 76 countries and autonomous regions around the world.', \"The report included a Latte Line, which measured the correlation between the price of coffee and a country's GDP.\", 'In 2022, Trusaic, a provider of equal pay compliance software, unveiled a new online tool called The Big Mac Pay Gap Index, which shows how much more a Big Mac would cost you, after adjusting the menu price of a Big Mac to reflect whatever pay gap you may face.', \"Limitations While economists widely cite the Big Mac index as a reasonable real-world measurement of purchasing power parity, the burger methodology has some limitations.Map of countries with at least one McDonald's restaurant, showing the lack of restaurants in Africa (2022) The Big Mac Index is limited by geographical coverage, due to the presence of the McDonald's franchise.\", 'For example, in Africa McDonald\\'s is only present in Morocco, Egypt, South Africa and Mauritius (there has been a similar index created solely for Africa called the \"KFC Index\": as the name suggests, instead of using a Big Mac, this index uses KFC\\'s Original 15 pc.', 'bucket to compile its data).', \"In many countries, eating at international fast-food chain restaurants such as McDonald's is relatively expensive in comparison to eating at a local restaurant, and the demand for Big Macs is not as large in countries such as India as in the United States.\", \"Social status of eating at fast food restaurants such as McDonald's in a local market, what proportion of sales might be to expatriates, local taxes, levels of competition, and import duties on selected items may not be representative of the country's economy as a whole.\", 'In addition, there is no theoretical reason why non-tradable goods and services such as property costs should be equal in different countries: this is the theoretical reason for PPPs being different from market exchange rates over time.', 'The relative cost of high-margin products, such as essential pharmaceutical products, or cellular telephony might compare local capacity and willingness to pay, as much as relative currency values.', \"Nevertheless, McDonald's is also using different commercial strategies which can result in huge differences for a product.\", 'Overall, the price of a Big Mac will be a reflection of its local production and delivery cost, the cost of advertising (considerable in some areas), and most importantly what the local market will bear – quite different from country to country, and not all a reflection of relative currency values.', 'In some markets, a high-volume and low-margin approach makes most sense to maximize profit, while in others a higher margin will generate more profit.', 'Thus the relative prices reflect more than currency values.', \"For example, a hamburger costs only €1 in France, and €1.50 in Belgium, but overall, McDonald's restaurants in both countries cost roughly the same.\", 'Prices of Big Macs can also vary greatly between different areas within a country.', \"For example, a Big Mac sold in New York City will be more expensive than one sold at a McDonald's located in a rural area.\", 'One other example is that Russia had one of the cheapest Big Macs at its time in 2019, despite the fact that Moscow was then the most expensive city in the world.', 'Standard food ingredients are cheap in Russia, while restaurants suitable for business dinners with English speaking staff are expensive.', \"ManipulationCritics of the presidency of Cristina Fernández de Kirchner in Argentina and many economists believe that the government has for years falsified consumer price data to understate the country's true inflation rate.\", 'The Economist stated in January 2011 that Big Mac index \"does support claims that Argentina\\'s government is cooking the books.', 'The gap between its average annual rate of burger inflation (19%) and its official rate (10%) is far bigger than in any other country.\"', \"That year the press began reporting on unusual behavior by the more than 200 Argentinean McDonald's restaurants.\", 'They no longer prominently advertised Big Macs for sale and the sandwich, both individually and as part of value meals, was being sold for an unusually low price compared to other items.', \"Guillermo Moreno, Secretary of Commerce in the Kirchner government, reportedly forced McDonald's to sell the Big Mac at an artificially low price to manipulate the country's performance on the Big Mac index.\", 'In June 2012, the price of the Big Mac value meal suddenly rose by 26%, closer to that of other meals, after The Economist, The New York Times, and other media reported on the unusual pricing.', 'A Buenos Aires newspaper stated \"Moreno loses the battle\".', 'Comparison issues The Big Mac (and virtually all sandwiches) vary from country to country with differing nutritional values, weights and even nominal size differences.', 'Not all Big Mac burgers offered by the chain are exclusively beef.', \"In India – which is a predominantly Hindu country – beef burgers are not available at any McDonald's outlets.\", 'The Chicken Maharaja Mac serves as a substitute for the Big Mac.', 'There is a lot of variance with the exclusively beef \"Big Mac\": the Australian version of the Big Mac has 22% fewer calories than the Canadian version, and is 8% lighter than the version sold in Mexico.', \"On 1 November 2009, all three of the McDonald's in Iceland closed, primarily due to the chain's high cost of importing most of the chain's meat and vegetables, by McDonald's demands and standards, from the Eurozone.\", 'At the time, a Big Mac in Iceland cost 650 krona ($5.29), and the 20% price increase that would have been needed to stay in business would have increased that cost to 780 krona ($6.36).', 'Fish and lamb are produced in Iceland, while beef is often imported (but also exported).', 'Figures Six most expensive (July 2023) This statistic shows the most expensive places to buy a Big Mac.', 'Switzerland – $7.73 (6.70 CHF) Norway – $6.92 (70 NOK) Uruguay – $6.86 (259 UYU) Argentina – $5.99 (1,650 ARS) EU – $5.82 (5.28 EUR) Sweden – $5.74 (60.27 SEK)Six cheapest (July 2023) This statistic shows the least expensive places to buy a Big Mac.', 'Taiwan – $2.39 (75 TWD) Indonesia – $2.52 (38,000 IDR) India – $2.54 (209 INR) Egypt – $2.62 (81.00 EGP) South Africa – $2.81 (49.90 ZAR) Philippines – $2.82 (155 PHP) Six fastest earned (July 2015) This statistic shows the average working time required to buy one Big Mac in selected cities around the world in 2015.', 'Hong Kong – 8.6 min Luxembourg – 10.3 min Japan, Tokyo – 10.4 min Switzerland, Zürich – 10.6 min United States, Miami – 10.7 min Switzerland, Geneva – 10.8 min Six slowest earned (July 2015) This statistic shows the average working time required to buy one Big Mac in selected cities around the world in 2015.', 'Kenya, Nairobi – 172.6 min Philippines, Manila – 87.5 min Mexico, Mexico City – 78.4 min Indonesia, Jakarta – 66.7 min Egypt, Cairo – 62.5 min Ukraine, Kyiv – 54.7 min']\n"
     ]
    }
   ],
   "source": [
    "from nltk import sent_tokenize\n",
    "\n",
    "sentences = sent_tokenize(text=text)\n",
    "print(sentences)"
   ]
  },
  {
   "attachments": {},
   "cell_type": "markdown",
   "metadata": {},
   "source": [
    "# writing appropriate prompt template for framing questions"
   ]
  },
  {
   "cell_type": "code",
   "execution_count": 10,
   "metadata": {},
   "outputs": [],
   "source": [
    "from langchain.prompts import PromptTemplate\n",
    "\n",
    "prompt_template_name  = PromptTemplate(\n",
    "    input_variables= ['category' , 'sentence' , 'phrase'],\n",
    "    template = \"Generate a {category} {phrase} for {sentence}\"\n",
    ")\n",
    "\n",
    "for sentence in sentences:\n",
    "    prompt_template_name.format(category = 'one-word', phrase = 'question' , sentence = sentence)"
   ]
  },
  {
   "cell_type": "code",
   "execution_count": 11,
   "metadata": {},
   "outputs": [],
   "source": [
    "def get_vectorstore(text_chunks):\n",
    "    embeddings = HuggingFaceInstructEmbeddings(model_name=\"hkunlp/instructor-large\")\n",
    "    vectorstore = FAISS.from_texts(texts=text_chunks, embedding=embeddings)\n",
    "    return vectorstore"
   ]
  },
  {
   "cell_type": "code",
   "execution_count": 12,
   "metadata": {},
   "outputs": [],
   "source": [
    "import os\n",
    "HUGGINGFACEHUB_API_TOKEN=\"YOUR_API_KEY\" #insert your hugging face api key\n",
    "os.environ[\"HUGGINGFACEHUB_API_TOKEN\"] = HUGGINGFACEHUB_API_TOKEN"
   ]
  },
  {
   "cell_type": "code",
   "execution_count": 13,
   "metadata": {},
   "outputs": [],
   "source": [
    "documents = [\"/Users/damodargupta/Desktop/Intellify-project/docs/Big_Mac_Index.pdf\"]"
   ]
  },
  {
   "attachments": {},
   "cell_type": "markdown",
   "metadata": {},
   "source": [
    "# generating questions"
   ]
  },
  {
   "attachments": {},
   "cell_type": "markdown",
   "metadata": {},
   "source": [
    "### 1. Multiple choice questions  (notice that answer is generated along with the question)"
   ]
  },
  {
   "cell_type": "code",
   "execution_count": 14,
   "metadata": {},
   "outputs": [
    {
     "name": "stdout",
     "output_type": "stream",
     "text": [
      "What is the index used to measure?Options:A Exchange rates.B Purchasing power parity.C PPP.D Currency strength.Answer:D\n",
      "What is the title of the book?Options:A Exchange Rate Theory.B Exchange Rates.C Exchange Rates and International Trade.D Exchange Rates and International Trade.Answer:B\n"
     ]
    }
   ],
   "source": [
    "from langchain.chains import LLMChain\n",
    "from langchain.llms import HuggingFaceHub\n",
    "\n",
    "llm = HuggingFaceHub(repo_id=\"google/flan-t5-xxl\", model_kwargs={\"temperature\":0.5,\"max_new_tokens\":100, \"max_length\":10})\n",
    "chain = LLMChain(llm = llm , prompt=prompt_template_name)\n",
    "for i in range(2):\n",
    "    print(chain.run({\"category\" : \"multiple choice\" , 'phrase' : 'question' , \"sentence\" : sentences[i]}))"
   ]
  },
  {
   "attachments": {},
   "cell_type": "markdown",
   "metadata": {},
   "source": [
    "### 2. one word answer questions"
   ]
  },
  {
   "cell_type": "code",
   "execution_count": 15,
   "metadata": {},
   "outputs": [
    {
     "name": "stdout",
     "output_type": "stream",
     "text": [
      "what is the big mac index?\n",
      "What is the book about?\n"
     ]
    }
   ],
   "source": [
    "from langchain.chains import LLMChain\n",
    "from langchain.llms import HuggingFaceHub\n",
    "\n",
    "llm = HuggingFaceHub(repo_id=\"google/flan-t5-xxl\", model_kwargs={\"temperature\":0.5,\"max_new_tokens\":100, \"max_length\":10})\n",
    "chain = LLMChain(llm = llm , prompt=prompt_template_name)\n",
    "for i in range(2):\n",
    "    print(chain.run({\"category\" : \"one word answer\" , 'phrase' : 'question' , \"sentence\" : sentences[i]}))"
   ]
  },
  {
   "attachments": {},
   "cell_type": "markdown",
   "metadata": {},
   "source": [
    "### 3. true false questions"
   ]
  },
  {
   "cell_type": "code",
   "execution_count": 20,
   "metadata": {},
   "outputs": [
    {
     "name": "stdout",
     "output_type": "stream",
     "text": [
      "The Big Mac Index is a price index published by The Economist.\n",
      "It is a book about the monetary system.\n"
     ]
    }
   ],
   "source": [
    "from langchain.chains import LLMChain\n",
    "from langchain.llms import HuggingFaceHub\n",
    "\n",
    "llm = HuggingFaceHub(repo_id=\"google/flan-t5-xxl\", model_kwargs={\"temperature\":0.5,\"max_new_tokens\":100, \"max_length\":10})\n",
    "chain = LLMChain(llm = llm , prompt=prompt_template_name)\n",
    "for i in range(2):\n",
    "    print(chain.run({\"category\" : \" \" , \"phrase\" : \"statement that is either true or false\" , \"sentence\" : sentences[i]}))"
   ]
  },
  {
   "attachments": {},
   "cell_type": "markdown",
   "metadata": {},
   "source": [
    "# generating answers"
   ]
  },
  {
   "attachments": {},
   "cell_type": "markdown",
   "metadata": {},
   "source": [
    "### 1. answers for the above generated true/false question"
   ]
  },
  {
   "cell_type": "code",
   "execution_count": 21,
   "metadata": {},
   "outputs": [
    {
     "name": "stdout",
     "output_type": "stream",
     "text": [
      "True\n",
      "This book is about exchange rates\n"
     ]
    }
   ],
   "source": [
    "from langchain.chains import LLMChain\n",
    "from langchain.llms import HuggingFaceHub\n",
    "\n",
    "llm = HuggingFaceHub(repo_id=\"google/flan-t5-xxl\", model_kwargs={\"temperature\":0.5,\"max_new_tokens\":100, \"max_length\":10})\n",
    "chain = LLMChain(llm = llm , prompt=prompt_template_name)\n",
    "for i in range(2):\n",
    "    print(chain.run({\"category\" : \" \" , \"phrase\" : \"statement that is either true or false along with the answer\" , \"sentence\" : sentences[i]}))"
   ]
  },
  {
   "attachments": {},
   "cell_type": "markdown",
   "metadata": {},
   "source": [
    "### 2. answer for a long question \"explain big mac index\""
   ]
  },
  {
   "cell_type": "code",
   "execution_count": 9,
   "metadata": {},
   "outputs": [
    {
     "name": "stdout",
     "output_type": "stream",
     "text": [
      "load INSTRUCTOR_Transformer\n",
      "max_seq_length  512\n"
     ]
    },
    {
     "data": {
      "text/plain": [
       "'The Big Mac Index is a price index published since 1986 by The Economist as an informal way of measuring the purchasing power parity (PPP) between two currencies and providing a test of the extent to which market exchange rates result in goods costing the same in different countries. It \"seeks to make exchange-rate theory a bit more digestible.\" The index compares the relative price worldwide to purchase the Big Mac, a hamburger sold at McDonald\\'s restaurants'"
      ]
     },
     "execution_count": 9,
     "metadata": {},
     "output_type": "execute_result"
    }
   ],
   "source": [
    "from langchain.chains import LLMChain\n",
    "from langchain.llms import HuggingFaceHub\n",
    "from langchain.chains import RetrievalQA\n",
    "from langchain.embeddings.huggingface import HuggingFaceInstructEmbeddings\n",
    "\n",
    "text_splitter = CharacterTextSplitter(\n",
    "        separator=\"\\n\",\n",
    "        chunk_size=1000,\n",
    "        chunk_overlap=200,\n",
    "        length_function=len\n",
    "    )\n",
    "chunks = text_splitter.split_text(text)\n",
    "\n",
    "vectorstore = get_vectorstore(chunks)\n",
    "\n",
    "llm = HuggingFaceHub(repo_id=\"google/flan-t5-xxl\", model_kwargs={\"temperature\":0.5 ,\"max_new_tokens\":100,\"max_length\":1000})\n",
    "qa_retrieval_chain = RetrievalQA.from_chain_type(llm=llm, chain_type = 'stuff' ,retriever=vectorstore.as_retriever())\n",
    "qa_retrieval_chain.run(\"explain big mac index?\")"
   ]
  },
  {
   "attachments": {},
   "cell_type": "markdown",
   "metadata": {},
   "source": [
    "### 3. answer for a one word question \"what is big mac index?\""
   ]
  },
  {
   "cell_type": "code",
   "execution_count": 10,
   "metadata": {},
   "outputs": [
    {
     "name": "stdout",
     "output_type": "stream",
     "text": [
      "load INSTRUCTOR_Transformer\n",
      "max_seq_length  512\n"
     ]
    },
    {
     "data": {
      "text/plain": [
       "'price'"
      ]
     },
     "execution_count": 10,
     "metadata": {},
     "output_type": "execute_result"
    }
   ],
   "source": [
    "from langchain.chains import LLMChain\n",
    "from langchain.llms import HuggingFaceHub\n",
    "from langchain.chains import RetrievalQA\n",
    "from langchain.embeddings.huggingface import HuggingFaceInstructEmbeddings\n",
    "\n",
    "\n",
    "text_splitter = CharacterTextSplitter(\n",
    "        separator=\"\\n\",\n",
    "        chunk_size=1000,\n",
    "        chunk_overlap=200,\n",
    "        length_function=len\n",
    "    )\n",
    "chunks = text_splitter.split_text(text)\n",
    "\n",
    "vectorstore = get_vectorstore(chunks)\n",
    "\n",
    "llm = HuggingFaceHub(repo_id=\"google/flan-t5-xxl\", model_kwargs={\"temperature\":0.5,\"max_new_tokens\":100 ,\"max_length\":100000})\n",
    "qa_retrieval_chain = RetrievalQA.from_chain_type(llm=llm, retriever=vectorstore.as_retriever())\n",
    "qa_retrieval_chain.run(\"answer in one word to what is big mac index?\")"
   ]
  },
  {
   "cell_type": "code",
   "execution_count": null,
   "metadata": {},
   "outputs": [],
   "source": []
  },
  {
   "cell_type": "code",
   "execution_count": null,
   "metadata": {},
   "outputs": [],
   "source": []
  },
  {
   "cell_type": "code",
   "execution_count": null,
   "metadata": {},
   "outputs": [],
   "source": []
  }
 ],
 "metadata": {
  "kernelspec": {
   "display_name": "base",
   "language": "python",
   "name": "python3"
  },
  "language_info": {
   "codemirror_mode": {
    "name": "ipython",
    "version": 3
   },
   "file_extension": ".py",
   "mimetype": "text/x-python",
   "name": "python",
   "nbconvert_exporter": "python",
   "pygments_lexer": "ipython3",
   "version": "3.10.9"
  },
  "orig_nbformat": 4
 },
 "nbformat": 4,
 "nbformat_minor": 2
}
